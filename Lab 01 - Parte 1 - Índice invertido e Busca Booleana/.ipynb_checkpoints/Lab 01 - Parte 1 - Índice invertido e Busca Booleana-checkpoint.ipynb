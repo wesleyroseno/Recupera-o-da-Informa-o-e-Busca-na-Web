{
 "cells": [
  {
   "cell_type": "code",
   "execution_count": 1,
   "metadata": {},
   "outputs": [],
   "source": [
    "import numpy as np"
   ]
  },
  {
   "cell_type": "code",
   "execution_count": 2,
   "metadata": {},
   "outputs": [],
   "source": [
    "import pandas as pd"
   ]
  },
  {
   "cell_type": "code",
   "execution_count": 3,
   "metadata": {},
   "outputs": [],
   "source": [
    "from nltk import word_tokenize"
   ]
  },
  {
   "cell_type": "code",
   "execution_count": 4,
   "metadata": {},
   "outputs": [],
   "source": [
    "news = pd.read_csv('noticias_estadao.csv', sep=',', index_col='idNoticia')"
   ]
  },
  {
   "cell_type": "code",
   "execution_count": 5,
   "metadata": {},
   "outputs": [],
   "source": [
    "news = news.sort_index(ascending=True)"
   ]
  },
  {
   "cell_type": "markdown",
   "metadata": {},
   "source": [
    "# Transforma o texto de cada celula da tabela, em uma lista das palavras do texto, em letras minusculas. E remove pontos finais de cada palavra."
   ]
  },
  {
   "cell_type": "code",
   "execution_count": 6,
   "metadata": {},
   "outputs": [
    {
     "name": "stderr",
     "output_type": "stream",
     "text": [
      "C:\\ProgramData\\Anaconda3\\lib\\site-packages\\ipykernel_launcher.py:2: DeprecationWarning: \n",
      ".ix is deprecated. Please use\n",
      ".loc for label based indexing or\n",
      ".iloc for positional indexing\n",
      "\n",
      "See the documentation here:\n",
      "http://pandas.pydata.org/pandas-docs/stable/indexing.html#ix-indexer-is-deprecated\n",
      "  \n"
     ]
    }
   ],
   "source": [
    "for i in range(1, len(news) + 1):\n",
    "    for j in range(len(news.ix[i])):\n",
    "        news.ix[i][j] = str(news.ix[i][j]) #força que a celula seja uma string, para uso da função lower()\n",
    "        news.ix[i][j] = list(set(word_tokenize(news.ix[i][j].lower(), language='portuguese')))"
   ]
  },
  {
   "cell_type": "markdown",
   "metadata": {},
   "source": [
    "# Cria um índice invertido das palavras dos documentos, onde associa cada palavra aos documentos que ela se encontra."
   ]
  },
  {
   "cell_type": "code",
   "execution_count": 7,
   "metadata": {},
   "outputs": [],
   "source": [
    "reference_list = {}\n",
    "\n",
    "for i in range(1, len(news) + 1):\n",
    "    for j in range(len(news.ix[i])):\n",
    "        for k in news.ix[i][j]:\n",
    "            if(reference_list.setdefault(k, None) == None):\n",
    "                reference_list[k] = [i]                \n",
    "            elif(reference_list[k][-1] != i):    \n",
    "                reference_list[k].append(i)"
   ]
  },
  {
   "cell_type": "markdown",
   "metadata": {},
   "source": [
    "# FUNÇÕS DE BUSCA"
   ]
  },
  {
   "cell_type": "code",
   "execution_count": 8,
   "metadata": {},
   "outputs": [],
   "source": [
    "def search_one_term(word):\n",
    "    return list(reference_list[word])"
   ]
  },
  {
   "cell_type": "code",
   "execution_count": 9,
   "metadata": {},
   "outputs": [],
   "source": [
    "def search_or_n_terms(words):\n",
    "    result = reference_list[words[0]]\n",
    "    \n",
    "    for i in range(1, len(words)):\n",
    "                result = np.union1d(result, reference_list[words[i]])\n",
    "                # result é o resultado de sucessivas buscas AND das palavras\n",
    "                \n",
    "    return list(result)        "
   ]
  },
  {
   "cell_type": "code",
   "execution_count": 10,
   "metadata": {},
   "outputs": [],
   "source": [
    "def smaller_terms(words):\n",
    "    smaller = 0\n",
    "    \n",
    "    for i in range(1, len(words)):\n",
    "            if (len(reference_list[words[smaller]]) > len(reference_list[words[i]])): \n",
    "                    smaller = i # posição da palavra com menos documentos\n",
    "                    \n",
    "    words[0], words[smaller] = words[smaller], words[0]\n",
    "    #coloca o termo presente em menos documentos na posição inicial da lista\n",
    "                    \n",
    "    return None # função com efeito colateral"
   ]
  },
  {
   "cell_type": "code",
   "execution_count": 11,
   "metadata": {},
   "outputs": [],
   "source": [
    "def search_and_n_terms(words):\n",
    "    if (len(words) > 2):\n",
    "        smaller = smaller_terms(words)\n",
    "            \n",
    "    result = reference_list[words[0]]\n",
    "    \n",
    "    for i in range(1, len(words)):\n",
    "                result = np.intersect1d(result, reference_list[words[i]])\n",
    "                # result é o resultado de sucessivas buscas OR das palavras\n",
    "                \n",
    "    return list(result)"
   ]
  },
  {
   "cell_type": "markdown",
   "metadata": {},
   "source": [
    "# Função que trata e identifica a entrada, para selecionar a função de busca"
   ]
  },
  {
   "cell_type": "code",
   "execution_count": 12,
   "metadata": {},
   "outputs": [],
   "source": [
    "def search(terms):\n",
    "    words = terms.lower().split(\" \")\n",
    "    \n",
    "    if(len(words) == 1):\n",
    "        return search_one_term(words[0])\n",
    "        \n",
    "    if(words[1] == 'or'):\n",
    "        return search_or_n_terms([words[0],words[2]])\n",
    "    \n",
    "    elif(words[1] == 'and'):\n",
    "            return search_and_n_terms([words[0],words[2]])\n",
    "        \n",
    "    else:\n",
    "        return search_and_n_terms(words)"
   ]
  },
  {
   "cell_type": "markdown",
   "metadata": {},
   "source": [
    "# TESTES"
   ]
  },
  {
   "cell_type": "code",
   "execution_count": 13,
   "metadata": {},
   "outputs": [],
   "source": [
    "assert len(search(\"debate OR presidencial\")) == 1770"
   ]
  },
  {
   "cell_type": "code",
   "execution_count": 14,
   "metadata": {},
   "outputs": [],
   "source": [
    "assert len(search(\"debate AND presidencial\")) == 201"
   ]
  },
  {
   "cell_type": "code",
   "execution_count": 15,
   "metadata": {},
   "outputs": [],
   "source": [
    "assert len(search(\"presidenciáveis OR corruptos\")) == 164"
   ]
  },
  {
   "cell_type": "code",
   "execution_count": 16,
   "metadata": {},
   "outputs": [],
   "source": [
    "assert len(search(\"presidenciáveis AND corruptos\")) == 0"
   ]
  },
  {
   "cell_type": "code",
   "execution_count": 17,
   "metadata": {},
   "outputs": [],
   "source": [
    "assert len(search(\"Belo OR Horizonte\")) == 331"
   ]
  },
  {
   "cell_type": "code",
   "execution_count": 18,
   "metadata": {},
   "outputs": [],
   "source": [
    "assert len(search(\"Belo AND Horizonte\")) == 242"
   ]
  },
  {
   "cell_type": "code",
   "execution_count": 19,
   "metadata": {},
   "outputs": [
    {
     "data": {
      "text/plain": [
       "1395"
      ]
     },
     "execution_count": 19,
     "metadata": {},
     "output_type": "execute_result"
    }
   ],
   "source": [
    "len (search(\"candidatos\"))"
   ]
  },
  {
   "cell_type": "code",
   "execution_count": 20,
   "metadata": {},
   "outputs": [
    {
     "data": {
      "text/plain": [
       "1"
      ]
     },
     "execution_count": 20,
     "metadata": {},
     "output_type": "execute_result"
    }
   ],
   "source": [
    "len(search(\"PT não pode se queixar afirma futuro articulador\"))"
   ]
  }
 ],
 "metadata": {
  "kernelspec": {
   "display_name": "Python 3",
   "language": "python",
   "name": "python3"
  },
  "language_info": {
   "codemirror_mode": {
    "name": "ipython",
    "version": 3
   },
   "file_extension": ".py",
   "mimetype": "text/x-python",
   "name": "python",
   "nbconvert_exporter": "python",
   "pygments_lexer": "ipython3",
   "version": "3.6.4"
  }
 },
 "nbformat": 4,
 "nbformat_minor": 2
}
