{
 "cells": [
  {
   "cell_type": "code",
   "execution_count": 1,
   "metadata": {},
   "outputs": [],
   "source": [
    "import numpy as np"
   ]
  },
  {
   "cell_type": "code",
   "execution_count": 2,
   "metadata": {},
   "outputs": [],
   "source": [
    "import pandas as pd"
   ]
  },
  {
   "cell_type": "code",
   "execution_count": 3,
   "metadata": {},
   "outputs": [],
   "source": [
    "from math import log10"
   ]
  },
  {
   "cell_type": "code",
   "execution_count": 4,
   "metadata": {},
   "outputs": [],
   "source": [
    "from nltk import wordpunct_tokenize"
   ]
  },
  {
   "cell_type": "code",
   "execution_count": 5,
   "metadata": {},
   "outputs": [],
   "source": [
    "news = pd.read_csv('estadao_noticias_eleicao.csv', sep=',', index_col='idNoticia')"
   ]
  },
  {
   "cell_type": "code",
   "execution_count": 6,
   "metadata": {},
   "outputs": [],
   "source": [
    "news = news.sort_index(ascending=True)"
   ]
  },
  {
   "cell_type": "code",
   "execution_count": 7,
   "metadata": {},
   "outputs": [],
   "source": [
    "news = news.replace(np.nan, '', regex=True)"
   ]
  },
  {
   "cell_type": "markdown",
   "metadata": {},
   "source": [
    "# Converte o texto de cada celula para minusculo, e divide as frases em listas e as palavras em sublistas."
   ]
  },
  {
   "cell_type": "code",
   "execution_count": 8,
   "metadata": {
    "collapsed": true
   },
   "outputs": [
    {
     "name": "stderr",
     "output_type": "stream",
     "text": [
      "C:\\ProgramData\\Anaconda3\\lib\\site-packages\\ipykernel_launcher.py:2: DeprecationWarning: \n",
      ".ix is deprecated. Please use\n",
      ".loc for label based indexing or\n",
      ".iloc for positional indexing\n",
      "\n",
      "See the documentation here:\n",
      "http://pandas.pydata.org/pandas-docs/stable/indexing.html#ix-indexer-is-deprecated\n",
      "  \n"
     ]
    }
   ],
   "source": [
    "for i in range(1, len(news) + 1):\n",
    "    for j in range(len(news.ix[i])):        \n",
    "        news.ix[i][j] = str(news.ix[i][j]).lower() #força que a celula seja uma string, para uso da função lower()\n",
    "        news.ix[i][j] = wordpunct_tokenize(news.ix[i][j])"
   ]
  },
  {
   "cell_type": "markdown",
   "metadata": {},
   "source": [
    "# Cria um índice invertido das palavras dos documentos, identificando em quantos e quais documentos a palavra aparece, e quantas vezes por documento:\n",
    "\n",
    "# reference_list[word] = [doc_frequency,[[doc,word_frequency]]]"
   ]
  },
  {
   "cell_type": "code",
   "execution_count": null,
   "metadata": {},
   "outputs": [],
   "source": [
    "reference_list = {}\n",
    "\n",
    "for i in range(1, len(news) + 1):\n",
    "    for j in range(len(news.ix[i])):\n",
    "        for k in news.ix[i][j]:\n",
    "            if(reference_list.setdefault(k, None) == None):\n",
    "                reference_list[k] = [1,[[i,1]]]\n",
    "            elif(reference_list[k][1][-1][0] == i):\n",
    "                reference_list[k][1][-1][1] += 1\n",
    "            else:\n",
    "                reference_list[k][0] += 1\n",
    "                reference_list[k][1].append([i,1])"
   ]
  },
  {
   "cell_type": "markdown",
   "metadata": {},
   "source": [
    "# FUNÇÕS DE BUSCA"
   ]
  },
  {
   "cell_type": "code",
   "execution_count": null,
   "metadata": {},
   "outputs": [],
   "source": [
    "def smaller_terms(words):\n",
    "    smaller = 0\n",
    "    \n",
    "    for i in range(1, len(words)):\n",
    "            if (reference_list[words[smaller]][0] > reference_list[words[i]][0]): \n",
    "                    smaller = i # posição da palavra com menos documentos\n",
    "                    \n",
    "    words[0], words[smaller] = words[smaller], words[0]\n",
    "    #coloca o termo presente em menos documentos na posição inicial da lista\n",
    "                    \n",
    "    return None # função com efeito colateral"
   ]
  },
  {
   "cell_type": "code",
   "execution_count": null,
   "metadata": {},
   "outputs": [],
   "source": [
    "def docs_containing_word(word):\n",
    "    docs = list()\n",
    "    \n",
    "    for i in range(len(reference_list[word][1])):\n",
    "        docs.append(reference_list[word][1][i][0])\n",
    "        \n",
    "    return docs"
   ]
  },
  {
   "cell_type": "code",
   "execution_count": null,
   "metadata": {},
   "outputs": [],
   "source": [
    "def search_and_n_terms_bit_vector(words):\n",
    "    if (len(words) > 2):\n",
    "        smaller = smaller_terms(words)\n",
    "            \n",
    "    result = docs_containing_word(words[0])\n",
    "    \n",
    "    for i in range(1, len(words)):\n",
    "                result = np.intersect1d(result, docs_containing_word(words[i]))\n",
    "                # result é o resultado de sucessivas buscas OR das palavras\n",
    "                \n",
    "    return list(result)"
   ]
  },
  {
   "cell_type": "code",
   "execution_count": null,
   "metadata": {},
   "outputs": [],
   "source": [
    "def docs_containing_word_frequency(word):\n",
    "    docs = list()\n",
    "    \n",
    "    for i in range(len(reference_list[word][1])):\n",
    "        docs.append(reference_list[word][1][i])\n",
    "        \n",
    "    return docs"
   ]
  },
  {
   "cell_type": "code",
   "execution_count": null,
   "metadata": {},
   "outputs": [],
   "source": [
    "def docs_frequency_decreasing(docs_and_weights):\n",
    "    frequency_decreasing = sorted(list(docs_and_weights.values()), key=int, reverse=True)\n",
    "    docs_frequency_decreasing = list()\n",
    "    \n",
    "    for i in frequency_decreasing:\n",
    "        doc = list(docs_and_weights.values()).index(i)\n",
    "        docs_frequency_decreasing.append(list(docs_and_weights.keys())[doc])\n",
    "        \n",
    "        docs_and_weights[list(docs_and_weights.keys())[doc]] = None\n",
    "        \n",
    "    return docs_frequency_decreasing"
   ]
  },
  {
   "cell_type": "code",
   "execution_count": null,
   "metadata": {},
   "outputs": [],
   "source": [
    "def search_and_n_terms_tf(words):\n",
    "    docs = search_and_n_terms_bit_vector(words)\n",
    "    docs_and_weights = {}\n",
    "    stop = 0\n",
    "    \n",
    "    for i in range(len(words)):\n",
    "        for j in range(len(reference_list[words[i]][1])):\n",
    "            if(reference_list[words[i]][1][j][0] in docs):\n",
    "                docs_and_weights[reference_list[words[i]][1][j][0]] = reference_list[words[i]][1][j][1]\n",
    "                stop += 1\n",
    "\n",
    "                if(stop == len(docs)):\n",
    "                    break\n",
    "                        \n",
    "        stop = 0\n",
    "        \n",
    "    return docs_frequency_decreasing(docs_and_weights)"
   ]
  },
  {
   "cell_type": "code",
   "execution_count": null,
   "metadata": {},
   "outputs": [],
   "source": [
    "def search_and_n_terms_tf_idf(words):\n",
    "    docs = search_and_n_terms_bit_vector(words)\n",
    "    docs_and_weights = {}\n",
    "    stop = 0\n",
    "    \n",
    "    for i in range(len(words)):\n",
    "        for j in range(len(reference_list[words[i]][1])):\n",
    "            if(reference_list[words[i]][1][j][0] in docs):\n",
    "                docs_and_weights[reference_list[words[i]][1][j][0]] = reference_list[words[i]][1][j][1]*log10((len(news)+1)/reference_list[words[i]][0])\n",
    "                stop += 1\n",
    "\n",
    "                if(stop == len(docs)):\n",
    "                    break\n",
    "                        \n",
    "        stop = 0\n",
    "        \n",
    "    return docs_frequency_decreasing(docs_and_weights)"
   ]
  },
  {
   "cell_type": "code",
   "execution_count": null,
   "metadata": {},
   "outputs": [],
   "source": [
    "def search_and_n_terms_bm_25(words):\n",
    "    coefficient_bm_25 = 1.5\n",
    "    docs = search_and_n_terms_bit_vector(words)\n",
    "    docs_and_weights = {}\n",
    "    stop = 0\n",
    "    \n",
    "    for i in range(len(words)):\n",
    "        for j in range(len(reference_list[words[i]][1])):\n",
    "            if(reference_list[words[i]][1][j][0] in docs):\n",
    "                docs_and_weights[reference_list[words[i]][1][j][0]] = (((coefficient_bm_25 + 1) * reference_list[words[i]][1][j][1])/(reference_list[words[i]][1][j][1] + coefficient_bm_25))*log10((len(news)+1)/reference_list[words[i]][0])\n",
    "                stop += 1\n",
    "\n",
    "                if(stop == len(docs)):\n",
    "                    break\n",
    "                        \n",
    "        stop = 0\n",
    "        \n",
    "    return docs_frequency_decreasing(docs_and_weights)"
   ]
  },
  {
   "cell_type": "markdown",
   "metadata": {},
   "source": [
    "# Função que trata a entrada, e identifica as saidas das funções de busca."
   ]
  },
  {
   "cell_type": "code",
   "execution_count": null,
   "metadata": {},
   "outputs": [],
   "source": [
    "def search(terms):\n",
    "    words = wordpunct_tokenize(terms.lower())\n",
    "       \n",
    "    print (\"busca binária: \" + str(search_and_n_terms_bit_vector(words)[0:5]))\n",
    "    print (\"tf: \" + str(search_and_n_terms_tf(words)[0:5]))\n",
    "    print (\"tf-idf: \" + str(search_and_n_terms_tf_idf(words)[0:5]))\n",
    "    print (\"bm25: \" + str(search_and_n_terms_bm_25(words)[0:5]))\n",
    "    \n",
    "    return None"
   ]
  },
  {
   "cell_type": "markdown",
   "metadata": {},
   "source": [
    "# TESTES"
   ]
  },
  {
   "cell_type": "code",
   "execution_count": null,
   "metadata": {},
   "outputs": [],
   "source": [
    "search(\"segundo turno\")"
   ]
  },
  {
   "cell_type": "code",
   "execution_count": null,
   "metadata": {},
   "outputs": [],
   "source": [
    "search(\"lava jato\")"
   ]
  },
  {
   "cell_type": "code",
   "execution_count": null,
   "metadata": {},
   "outputs": [],
   "source": [
    "search(\"projeto de lei\")"
   ]
  },
  {
   "cell_type": "code",
   "execution_count": null,
   "metadata": {},
   "outputs": [],
   "source": [
    "search(\"compra de voto\")"
   ]
  },
  {
   "cell_type": "code",
   "execution_count": null,
   "metadata": {},
   "outputs": [],
   "source": [
    "search(\"ministério público\")"
   ]
  }
 ],
 "metadata": {
  "kernelspec": {
   "display_name": "Python 3",
   "language": "python",
   "name": "python3"
  },
  "language_info": {
   "codemirror_mode": {
    "name": "ipython",
    "version": 3
   },
   "file_extension": ".py",
   "mimetype": "text/x-python",
   "name": "python",
   "nbconvert_exporter": "python",
   "pygments_lexer": "ipython3",
   "version": "3.6.4"
  }
 },
 "nbformat": 4,
 "nbformat_minor": 2
}
