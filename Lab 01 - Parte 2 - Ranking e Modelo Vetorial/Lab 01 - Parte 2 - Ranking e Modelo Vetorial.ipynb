{
 "cells": [
  {
   "cell_type": "code",
   "execution_count": 28,
   "metadata": {},
   "outputs": [],
   "source": [
    "import numpy as np"
   ]
  },
  {
   "cell_type": "code",
   "execution_count": 29,
   "metadata": {},
   "outputs": [],
   "source": [
    "import pandas as pd"
   ]
  },
  {
   "cell_type": "markdown",
   "metadata": {},
   "source": [
    "from nltk import wordpunct_tokenize"
   ]
  },
  {
   "cell_type": "code",
   "execution_count": 31,
   "metadata": {},
   "outputs": [],
   "source": [
    "from nltk import word_tokenize"
   ]
  },
  {
   "cell_type": "code",
   "execution_count": 49,
   "metadata": {},
   "outputs": [],
   "source": [
    "news = pd.read_csv('estadao_noticias_eleicao.csv', sep=',', index_col='idNoticia')"
   ]
  },
  {
   "cell_type": "code",
   "execution_count": 50,
   "metadata": {},
   "outputs": [],
   "source": [
    "news = news.sort_index(ascending=True)"
   ]
  },
  {
   "cell_type": "code",
   "execution_count": 51,
   "metadata": {},
   "outputs": [],
   "source": [
    "news = news.replace(np.nan, '', regex=True)"
   ]
  },
  {
   "cell_type": "markdown",
   "metadata": {},
   "source": [
    "# Converte o texto de cada celula para minusculo, e divide as frases em listas e as palavras em sublistas."
   ]
  },
  {
   "cell_type": "code",
   "execution_count": 52,
   "metadata": {
    "collapsed": true
   },
   "outputs": [
    {
     "name": "stderr",
     "output_type": "stream",
     "text": [
      "C:\\ProgramData\\Anaconda3\\lib\\site-packages\\ipykernel_launcher.py:2: DeprecationWarning: \n",
      ".ix is deprecated. Please use\n",
      ".loc for label based indexing or\n",
      ".iloc for positional indexing\n",
      "\n",
      "See the documentation here:\n",
      "http://pandas.pydata.org/pandas-docs/stable/indexing.html#ix-indexer-is-deprecated\n",
      "  \n"
     ]
    }
   ],
   "source": [
    "for i in range(1, len(news) + 1):\n",
    "    for j in range(len(news.ix[i])):        \n",
    "        news.ix[i][j] = str(news.ix[i][j]).lower() #força que a celula seja uma string, para uso da função lower()\n",
    "        news.ix[i][j] = word_tokenize(news.ix[i][j])"
   ]
  },
  {
   "cell_type": "markdown",
   "metadata": {},
   "source": [
    "# Cria um índice invertido das palavras dos documentos, identificando em quantos e quais documentos a palavra aparece, e quantas vezes por documento:\n",
    "\n",
    "# reference_list[word] = [doc_frequency,[[doc,word_frequency]]]"
   ]
  },
  {
   "cell_type": "code",
   "execution_count": 53,
   "metadata": {},
   "outputs": [],
   "source": [
    "reference_list = {}\n",
    "\n",
    "for i in range(1, len(news) + 1):\n",
    "    for j in range(len(news.ix[i])):\n",
    "        for k in news.ix[i][j]:\n",
    "            if(reference_list.setdefault(k, None) == None):\n",
    "                reference_list[k] = [1,[[i,1]]]\n",
    "            elif(reference_list[k][1][-1][0] == i):\n",
    "                reference_list[k][1][-1][1] += 1\n",
    "            else:\n",
    "                reference_list[k][0] += 1\n",
    "                reference_list[k][1].append([i,1])"
   ]
  },
  {
   "cell_type": "markdown",
   "metadata": {},
   "source": [
    "# FUNÇÕS DE BUSCA"
   ]
  },
  {
   "cell_type": "code",
   "execution_count": 36,
   "metadata": {},
   "outputs": [],
   "source": [
    "def search_one_term(word):\n",
    "    return list(reference_list[word])"
   ]
  },
  {
   "cell_type": "code",
   "execution_count": 37,
   "metadata": {},
   "outputs": [],
   "source": [
    "def search_or_n_terms(words):\n",
    "    result = reference_list[words[0]]\n",
    "    \n",
    "    for i in range(1, len(words)):\n",
    "                result = np.union1d(result, reference_list[words[i]])\n",
    "                # result é o resultado de sucessivas buscas AND das palavras\n",
    "                \n",
    "                return list(result)        "
   ]
  },
  {
   "cell_type": "code",
   "execution_count": 38,
   "metadata": {},
   "outputs": [],
   "source": [
    "def smaller_terms(words):\n",
    "    smaller = 0\n",
    "    \n",
    "    for i in range(1, len(words)):\n",
    "            if (len(reference_list[words[smaller]]) > len(reference_list[words[i]])): \n",
    "                    smaller = i # posição da palavra com menos documentos\n",
    "                    \n",
    "    words[0], words[smaller] = words[smaller], words[0]\n",
    "    #coloca o termo presente em menos documentos na posição inicial da lista\n",
    "                    \n",
    "    return None # função com efeito colateral"
   ]
  },
  {
   "cell_type": "code",
   "execution_count": 39,
   "metadata": {},
   "outputs": [],
   "source": [
    "def search_and_n_terms(words):\n",
    "    if (len(words) > 2):\n",
    "        smaller = smaller_terms(words)\n",
    "            \n",
    "    result = reference_list[words[0]]\n",
    "    \n",
    "    for i in range(1, len(words)):\n",
    "                result = np.intersect1d(result, reference_list[words[i]])\n",
    "                # result é o resultado de sucessivas buscas OR das palavras\n",
    "                \n",
    "    return list(result)"
   ]
  },
  {
   "cell_type": "markdown",
   "metadata": {},
   "source": [
    "# Função que trata e identifica a entrada, para selecionar a função de busca"
   ]
  },
  {
   "cell_type": "code",
   "execution_count": 40,
   "metadata": {},
   "outputs": [],
   "source": [
    "def search(terms):\n",
    "    words = terms.lower().split(\" \")\n",
    "    \n",
    "    if(len(words) == 1):\n",
    "        return search_one_term(words[0])\n",
    "        \n",
    "    if(words[1] == 'or'):\n",
    "        return search_or_n_terms([words[0],words[2]])\n",
    "    \n",
    "    elif(words[1] == 'and'):\n",
    "            return search_and_n_terms([words[0],words[2]])\n",
    "        \n",
    "    else:\n",
    "        return search_and_n_terms(words)"
   ]
  },
  {
   "cell_type": "markdown",
   "metadata": {},
   "source": [
    "# TESTES"
   ]
  },
  {
   "cell_type": "code",
   "execution_count": 44,
   "metadata": {},
   "outputs": [
    {
     "data": {
      "text/plain": [
       "\"'pt\""
      ]
     },
     "execution_count": 44,
     "metadata": {},
     "output_type": "execute_result"
    }
   ],
   "source": [
    "news.ix[15][1][0]"
   ]
  }
 ],
 "metadata": {
  "kernelspec": {
   "display_name": "Python 3",
   "language": "python",
   "name": "python3"
  },
  "language_info": {
   "codemirror_mode": {
    "name": "ipython",
    "version": 3
   },
   "file_extension": ".py",
   "mimetype": "text/x-python",
   "name": "python",
   "nbconvert_exporter": "python",
   "pygments_lexer": "ipython3",
   "version": "3.6.4"
  }
 },
 "nbformat": 4,
 "nbformat_minor": 2
}
