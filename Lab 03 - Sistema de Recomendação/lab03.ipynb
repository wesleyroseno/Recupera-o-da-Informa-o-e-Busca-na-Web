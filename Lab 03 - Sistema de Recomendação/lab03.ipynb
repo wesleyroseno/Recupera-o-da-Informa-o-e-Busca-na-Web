{
 "cells": [
  {
   "cell_type": "code",
   "execution_count": 1,
   "metadata": {},
   "outputs": [],
   "source": [
    "import pandas as pd\n",
    "import warnings\n",
    "from surprise import accuracy, Dataset, KNNWithMeans, Reader\n",
    "from surprise.model_selection import train_test_split\n",
    "\n",
    "warnings.filterwarnings('ignore')"
   ]
  },
  {
   "cell_type": "markdown",
   "metadata": {},
   "source": [
    "# Identificação e nome dos filmes."
   ]
  },
  {
   "cell_type": "code",
   "execution_count": 2,
   "metadata": {},
   "outputs": [],
   "source": [
    "movies = pd.read_csv('ml-latest-small/movies.csv', sep=',', usecols=[\"movieId\",\"title\"])"
   ]
  },
  {
   "cell_type": "markdown",
   "metadata": {},
   "source": [
    "# Avaliação dos filmes, pelos usuarios."
   ]
  },
  {
   "cell_type": "code",
   "execution_count": 3,
   "metadata": {},
   "outputs": [],
   "source": [
    "ratings_moviesIds = pd.read_csv('ml-latest-small/ratings.csv', sep=',', usecols=[\"userId\",\"movieId\",\"rating\"])"
   ]
  },
  {
   "cell_type": "markdown",
   "metadata": {},
   "source": [
    "# Filmes ainda não assistido por cada usuario \"userId\"."
   ]
  },
  {
   "cell_type": "code",
   "execution_count": 4,
   "metadata": {},
   "outputs": [],
   "source": [
    "unseen_moviesId = dict()\n",
    "\n",
    "for userId in set(ratings_moviesIds[\"userId\"].values):\n",
    "    unseen_moviesId[userId] = set(movies[\"movieId\"].values).difference(set(ratings_moviesIds.set_index(\"userId\").ix[userId][\"movieId\"].values))"
   ]
  },
  {
   "cell_type": "markdown",
   "metadata": {},
   "source": [
    "# Definição da faixa de notas para os filmes, e leitura das avaliações dos usuarios."
   ]
  },
  {
   "cell_type": "code",
   "execution_count": 5,
   "metadata": {
    "scrolled": true
   },
   "outputs": [],
   "source": [
    "reader = Reader(rating_scale=(1, 5))\n",
    "data = Dataset.load_from_df(ratings_moviesIds[[\"userId\",\"movieId\",\"rating\"]], reader)"
   ]
  },
  {
   "cell_type": "markdown",
   "metadata": {},
   "source": [
    "# Tratamento dos dados e treimanento do algoritmo de recomendação."
   ]
  },
  {
   "cell_type": "code",
   "execution_count": 6,
   "metadata": {},
   "outputs": [
    {
     "name": "stdout",
     "output_type": "stream",
     "text": [
      "Computing the cosine similarity matrix...\n",
      "Done computing similarity matrix.\n"
     ]
    }
   ],
   "source": [
    "trainset,testset = train_test_split(data,test_size =.2)\n",
    "\n",
    "algo = KNNWithMeans(k=4, sim_options={'name': 'cosine', 'user_based': True})\n",
    "\n",
    "algo.fit(trainset)\n",
    "predictions = algo.test(testset)"
   ]
  },
  {
   "cell_type": "markdown",
   "metadata": {},
   "source": [
    "# Quando se passa o arquivo com os usuarios, a função \"train_test_split\", na celula anterior, converte os userId bruto do arquivo de entrada, para um ID interno.\n",
    "\n",
    "# A função abaixo converte o valor bruto do userId que se deseja pesquisar, para o seu ID interno correspondente, e ao receber os ID interno dos vizinhos, converte eles para userId bruto do arquivo, para então retornar uma lista contendo os vizinhos."
   ]
  },
  {
   "cell_type": "code",
   "execution_count": 7,
   "metadata": {},
   "outputs": [],
   "source": [
    "def three_best_neighbors(userId):\n",
    "    return [algo.trainset.to_raw_uid(uid) for uid in algo.get_neighbors(iid=algo.trainset.to_inner_uid(userId), k=3)]"
   ]
  },
  {
   "cell_type": "markdown",
   "metadata": {},
   "source": [
    "# Recebe o userId do qual se deseja recomendações de filmes, e retorna os 5 filmes mais bem ranqueados pelo algoritmo de recomendação."
   ]
  },
  {
   "cell_type": "code",
   "execution_count": 8,
   "metadata": {},
   "outputs": [],
   "source": [
    "def five_best_recommendations(userId): \n",
    "    recommendations = dict()\n",
    "    \n",
    "    for movieId in unseen_moviesId[userId]: \n",
    "        recommendations[movieId]= algo.predict(uid=userId,iid=movieId).est\n",
    "    \n",
    "    return [movies.set_index(\"movieId\").ix[movieId[0]][0] for movieId in sorted(recommendations.items(), key=lambda x: x[1], reverse=True)[0:5]]"
   ]
  },
  {
   "cell_type": "markdown",
   "metadata": {},
   "source": [
    "# Demonstração de funcionamento do codigo"
   ]
  },
  {
   "cell_type": "code",
   "execution_count": 9,
   "metadata": {},
   "outputs": [
    {
     "name": "stdout",
     "output_type": "stream",
     "text": [
      "Entre com o Id do usuario: 671\n",
      "\n",
      "As top-5 recomendações:\n",
      "\tLamerica (1994)\n",
      "\tConfessional, The (Confessionnal, Le) (1995)\n",
      "\tWhite Balloon, The (Badkonake sefid) (1995)\n",
      "\tAspen (1991)\n",
      "\tTimecrimes (Cronocrímenes, Los) (2007)\n",
      "\n",
      "Os três melhores vizinhos: [308, 490, 179]\n"
     ]
    }
   ],
   "source": [
    "userId = input(\"Entre com o Id do usuario: \")\n",
    "\n",
    "print(\"\")\n",
    "print(\"As top-5 recomendações:\")\n",
    "for movie in five_best_recommendations(int(userId)):\n",
    "    print (\"\\t\" + movie),\n",
    "\n",
    "print(\"\")\n",
    "print(\"Os três melhores vizinhos: \"+ str(three_best_neighbors(int(userId))))"
   ]
  }
 ],
 "metadata": {
  "kernelspec": {
   "display_name": "Python 3",
   "language": "python",
   "name": "python3"
  },
  "language_info": {
   "codemirror_mode": {
    "name": "ipython",
    "version": 3
   },
   "file_extension": ".py",
   "mimetype": "text/x-python",
   "name": "python",
   "nbconvert_exporter": "python",
   "pygments_lexer": "ipython3",
   "version": "3.6.6"
  }
 },
 "nbformat": 4,
 "nbformat_minor": 2
}
