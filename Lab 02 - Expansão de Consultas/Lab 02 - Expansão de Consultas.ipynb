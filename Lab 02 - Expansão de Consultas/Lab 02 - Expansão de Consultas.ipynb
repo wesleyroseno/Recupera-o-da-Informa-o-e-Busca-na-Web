{
 "cells": [
  {
   "cell_type": "code",
   "execution_count": 8,
   "metadata": {},
   "outputs": [],
   "source": [
    "import coocurrence_matrix"
   ]
  },
  {
   "cell_type": "code",
   "execution_count": 14,
   "metadata": {},
   "outputs": [],
   "source": [
    "from nltk import wordpunct_tokenize"
   ]
  },
  {
   "cell_type": "markdown",
   "metadata": {},
   "source": [
    "# Bigramas existentes com a palavra (\"word\"), e suas frequências."
   ]
  },
  {
   "cell_type": "code",
   "execution_count": 136,
   "metadata": {},
   "outputs": [],
   "source": [
    "def list_tuple_bigrams_frequency(word):\n",
    "    list_tuple_bigrams_frequency = []\n",
    "    \n",
    "    for bigrams_frequency in coocurrence_matrix.consultable_matrix[coocurrence_matrix.vocab[word]]:\n",
    "        list_bigrams_frequency = [int(numero) for numero in wordpunct_tokenize(str(bigrams_frequency)) if (numero.isdigit() and numero != '0')]\n",
    "        \n",
    "    for word_bigram in range(int(len(list_bigrams_frequency)/2)):\n",
    "        list_tuple_bigrams_frequency.append(((words[list_bigrams_frequency[word_bigram * 2]]), (list_bigrams_frequency[(word_bigram * 2) + 1])))\n",
    "\n",
    "    return list_tuple_bigrams_frequency"
   ]
  },
  {
   "cell_type": "code",
   "execution_count": 141,
   "metadata": {},
   "outputs": [
    {
     "name": "stdout",
     "output_type": "stream",
     "text": [
      "1\n",
      "1\n"
     ]
    },
    {
     "data": {
      "text/plain": [
       "0"
      ]
     },
     "execution_count": 141,
     "metadata": {},
     "output_type": "execute_result"
    }
   ],
   "source": [
    "word_expanded(\"aecio\")"
   ]
  },
  {
   "cell_type": "markdown",
   "metadata": {},
   "source": [
    "# Retorna as palavras que formam bigramas com a \"word\", que possuem as 3 maiores frequências entre os bigramas formados com a \"word\"."
   ]
  },
  {
   "cell_type": "code",
   "execution_count": 140,
   "metadata": {},
   "outputs": [],
   "source": [
    "def word_expanded(word):\n",
    "    for word_frequency in list_tuple_bigrams_frequency(word):\n",
    "        print (word_frequency[1])\n",
    "    \n",
    "    return 0"
   ]
  },
  {
   "cell_type": "markdown",
   "metadata": {},
   "source": [
    "# Cria um índice invertido das palavras dos documentos, onde associa cada palavra aos documentos que ela se encontra."
   ]
  },
  {
   "cell_type": "code",
   "execution_count": null,
   "metadata": {},
   "outputs": [],
   "source": [
    "reference_list = {}\n",
    "\n",
    "for i in range(len(coocurrence_matrix.content)):\n",
    "    for j in coocurrence_matrix.content.ix[i]:\n",
    "        if(reference_list.setdefault(j, None) == None):\n",
    "            reference_list[j] = [i]                \n",
    "        elif(reference_list[j][-1] != i):    \n",
    "            reference_list[j].append(i)"
   ]
  },
  {
   "cell_type": "markdown",
   "metadata": {},
   "source": [
    "# FUNÇÕS DE BUSCA"
   ]
  },
  {
   "cell_type": "code",
   "execution_count": 29,
   "metadata": {},
   "outputs": [],
   "source": [
    "def search_one_term(word):\n",
    "    return list(reference_list[word])"
   ]
  },
  {
   "cell_type": "code",
   "execution_count": 28,
   "metadata": {},
   "outputs": [],
   "source": [
    "def search_or_term_expanded(word):    \n",
    "    result = reference_list[word]\n",
    "    \n",
    "    #falta pegar as palavras mais frequentes para \"words\"\n",
    "    words = word_expanded(word)\n",
    "    \n",
    "    for i in words:\n",
    "                result = np.union1d(result, reference_list[i])\n",
    "                # result é o resultado de sucessivas buscas OR das palavras\n",
    "                \n",
    "    return list(result)"
   ]
  },
  {
   "cell_type": "markdown",
   "metadata": {},
   "source": [
    "# Example"
   ]
  },
  {
   "cell_type": "code",
   "execution_count": null,
   "metadata": {},
   "outputs": [],
   "source": [
    "len(coocurrence_matrix.content.ix[0])"
   ]
  },
  {
   "cell_type": "code",
   "execution_count": null,
   "metadata": {},
   "outputs": [],
   "source": [
    "try:\n",
    "    w1 = 'dilmapramudarminas'\n",
    "    w2 = 'investida'\n",
    "    print(coocurrence_matrix.consult_frequency(w1, w2))\n",
    "    \n",
    "        \n",
    "except:\n",
    "    print (\"Retronar zero\")"
   ]
  },
  {
   "cell_type": "code",
   "execution_count": null,
   "metadata": {},
   "outputs": [],
   "source": [
    "len(coocurrence_matrix.tokens)"
   ]
  },
  {
   "cell_type": "code",
   "execution_count": 32,
   "metadata": {},
   "outputs": [],
   "source": [
    "words = list(set(coocurrence_matrix.tokens))"
   ]
  },
  {
   "cell_type": "code",
   "execution_count": null,
   "metadata": {
    "scrolled": true
   },
   "outputs": [],
   "source": [
    "len(words)"
   ]
  },
  {
   "cell_type": "code",
   "execution_count": null,
   "metadata": {},
   "outputs": [],
   "source": [
    "coocurrence_matrix.consultable_matrix[coocurrence_matrix.vocab['litigiosidade']]"
   ]
  },
  {
   "cell_type": "code",
   "execution_count": null,
   "metadata": {},
   "outputs": [],
   "source": [
    "for x in coocurrence_matrix.consultable_matrix[coocurrence_matrix.vocab[\"obras\"]]:\n",
    "    print (x)"
   ]
  },
  {
   "cell_type": "code",
   "execution_count": null,
   "metadata": {},
   "outputs": [],
   "source": [
    "coocurrence_matrix.vocab['dilmapramudarminas']"
   ]
  },
  {
   "cell_type": "code",
   "execution_count": 33,
   "metadata": {
    "scrolled": false
   },
   "outputs": [
    {
     "data": {
      "text/plain": [
       "'investida'"
      ]
     },
     "execution_count": 33,
     "metadata": {},
     "output_type": "execute_result"
    }
   ],
   "source": [
    "words[44795]"
   ]
  }
 ],
 "metadata": {
  "kernelspec": {
   "display_name": "Python 3",
   "language": "python",
   "name": "python3"
  },
  "language_info": {
   "codemirror_mode": {
    "name": "ipython",
    "version": 3
   },
   "file_extension": ".py",
   "mimetype": "text/x-python",
   "name": "python",
   "nbconvert_exporter": "python",
   "pygments_lexer": "ipython3",
   "version": "3.6.2"
  }
 },
 "nbformat": 4,
 "nbformat_minor": 2
}
