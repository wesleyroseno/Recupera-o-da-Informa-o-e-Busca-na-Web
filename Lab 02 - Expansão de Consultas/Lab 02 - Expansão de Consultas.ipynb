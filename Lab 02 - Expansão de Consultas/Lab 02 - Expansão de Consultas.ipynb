{
 "cells": [
  {
   "cell_type": "code",
   "execution_count": 1,
   "metadata": {},
   "outputs": [],
   "source": [
    "import coocurrence_matrix"
   ]
  },
  {
   "cell_type": "code",
   "execution_count": 2,
   "metadata": {},
   "outputs": [
    {
     "data": {
      "text/plain": [
       "0       PT espera 30 mil pessoas em festa na Esplanada...\n",
       "1       Alckmin toma posse de olho no Planalto Governa...\n",
       "2       Seis obstáculos e desafios do segundo mandato ...\n",
       "3        Veja as principais fotos do dia e dos eventos...\n",
       "4        Veja as principais fotos do dia e dos eventos...\n",
       "5        Veja as principais fotos do dia e dos eventos...\n",
       "6       Veja os desafios dos governadores que assumem ...\n",
       "7       PT impulsiona cerimônia de posse da Dilma nas ...\n",
       "8        Em setembro de 2014, após conceder entrevista...\n",
       "9       Dilma veta projeto de Suplicy que cria linha o...\n",
       "10      Dilma anuncia 14 ministros e conclui reforma m...\n",
       "11      Dilma anuncia últimos 14 ministros e fecha equ...\n",
       "12      Ex-governador critica Alckmin pela falta de ág...\n",
       "13      Veja lista completa de ministros anunciados po...\n",
       "14      'PT não pode se queixar', afirma futuro articu...\n",
       "15      Planalto confirma Juca Ferreira no Ministério ...\n",
       "16      Pimentel divulga nomes do secretariado do gove...\n",
       "17      Com recusa de Celso Amorim, Figueiredo deve fi...\n",
       "18      Ala do PT pede saída de Ideli de ministério Se...\n",
       "19      Cid Gomes anunciará novo piso para professores...\n",
       "20      Além de ministério, PRB ganha pastas estaduais...\n",
       "21      Ministro não precisa ser expert, afirma prefei...\n",
       "22      Dilma deixa Lula e ala majoritária do PT de fo...\n",
       "23       Chefe da Casa Civil do governo Alckmin disse ...\n",
       "24      Lei de Roseana dá à ex-governadora direito a n...\n",
       "25      Alckmin chama presidente do PSDB paulista para...\n",
       "26      E-mails indicam ‘atuação direta’ de cartel no ...\n",
       "27      Menor prestígio e verba faz diplomatas buscare...\n",
       "28      'Obras de Alckmin terão significado para todo ...\n",
       "29      Cúpula da política externa proíbe uso de Faceb...\n",
       "                              ...                        \n",
       "8686    Dados ajudam a  quebrar mitos da  política nac...\n",
       "8687    Eleição municipal e pequenas cidades induzem f...\n",
       "8688    11% dos eleitores do País são filiados a legen...\n",
       "8689    Adesão cresce em regiões de maior escolaridade...\n",
       "8690    'Se sentença seguiu as regras, é difícil haver...\n",
       "8691    Abstinência programada    O governo começa a t...\n",
       "8692    Siglas descumprem cota feminina em propaganda ...\n",
       "8693    Bancada de mulheres no Brasil é inferior à méd...\n",
       "8694    Em prisão domiciliar, Genoino muda endereço pe...\n",
       "8695    Câmara não cumpre promessa de economia de R$ 2...\n",
       "8696    'Aliança com tucanos é a nova política', diz C...\n",
       "8697    Com base oscilante, Dilma usa menos PEC   Atua...\n",
       "8698    Aos 139 anos, 'Estado' preserva defesa da libe...\n",
       "8699    Dilma aprovou menos emendas que Lula e FHC Atu...\n",
       "8700    Câmara deixa de cumprir promessa de economia d...\n",
       "8701    PSB prepara anúncio de Marina como vice de Cam...\n",
       "8702    Campos empossa novos secretários em clima de c...\n",
       "8703    Alckmin volta a dizer que espera 'investigação...\n",
       "8704    Governo atua para adiar leis sensíveis a sindi...\n",
       "8705    Calendário curto trava pauta do Congresso   El...\n",
       "8706    Presidenciáveis privilegiam o Sudeste no cumpr...\n",
       "8707    Executivo da Siemens teve ordem para destruir ...\n",
       "8708    Governo tenta barrar projeto sobre greve de se...\n",
       "8709    Falta de acordo deve se intensificar no Congre...\n",
       "8710     Às segundas e sextas-feiras, parlamentares do...\n",
       "8711    Itamaraty recupera status com o Planalto   Fig...\n",
       "8712    No Congresso, até ruralistas são 'verdes'    A...\n",
       "8713    Indústria também tem lista de demandas Assim c...\n",
       "8714    Ambientalistas criam pontes com oposição para ...\n",
       "8715    Ministros candidatos na eleição de outubro têm...\n",
       "Length: 8716, dtype: object"
      ]
     },
     "execution_count": 2,
     "metadata": {},
     "output_type": "execute_result"
    }
   ],
   "source": [
    "coocurrence_matrix.content"
   ]
  },
  {
   "cell_type": "code",
   "execution_count": 3,
   "metadata": {},
   "outputs": [],
   "source": [
    "from nltk import wordpunct_tokenize"
   ]
  },
  {
   "cell_type": "markdown",
   "metadata": {},
   "source": [
    "# Example"
   ]
  },
  {
   "cell_type": "code",
   "execution_count": 4,
   "metadata": {},
   "outputs": [
    {
     "name": "stdout",
     "output_type": "stream",
     "text": [
      "1\n"
     ]
    }
   ],
   "source": [
    "try:\n",
    "    w1 = 'dilmapramudarminas'\n",
    "    w2 = 'investida'\n",
    "    print(coocurrence_matrix.consult_frequency(w1, w2))\n",
    "    \n",
    "        \n",
    "except:\n",
    "    print (\"Retronar zero\")"
   ]
  },
  {
   "cell_type": "code",
   "execution_count": 5,
   "metadata": {},
   "outputs": [
    {
     "data": {
      "text/plain": [
       "2181175"
      ]
     },
     "execution_count": 5,
     "metadata": {},
     "output_type": "execute_result"
    }
   ],
   "source": [
    "len(coocurrence_matrix.tokens)"
   ]
  },
  {
   "cell_type": "code",
   "execution_count": 6,
   "metadata": {},
   "outputs": [],
   "source": [
    "words = list(set(coocurrence_matrix.tokens))"
   ]
  },
  {
   "cell_type": "code",
   "execution_count": 7,
   "metadata": {
    "scrolled": true
   },
   "outputs": [
    {
     "data": {
      "text/plain": [
       "55908"
      ]
     },
     "execution_count": 7,
     "metadata": {},
     "output_type": "execute_result"
    }
   ],
   "source": [
    "len(words)"
   ]
  },
  {
   "cell_type": "code",
   "execution_count": 8,
   "metadata": {},
   "outputs": [
    {
     "data": {
      "text/plain": [
       "<1x55908 sparse matrix of type '<class 'numpy.int32'>'\n",
       "\twith 4 stored elements in Compressed Sparse Row format>"
      ]
     },
     "execution_count": 8,
     "metadata": {},
     "output_type": "execute_result"
    }
   ],
   "source": [
    "coocurrence_matrix.consultable_matrix[coocurrence_matrix.vocab['litigiosidade']]"
   ]
  },
  {
   "cell_type": "code",
   "execution_count": 9,
   "metadata": {},
   "outputs": [
    {
     "name": "stdout",
     "output_type": "stream",
     "text": [
      "[851, 1, 2865, 1, 6069, 1, 24574, 1]\n"
     ]
    }
   ],
   "source": [
    "for bigramas in coocurrence_matrix.consultable_matrix[coocurrence_matrix.vocab['litigiosidade']]:\n",
    "    a = [int(numero) for numero in wordpunct_tokenize(str(bigramas)) if (numero.isdigit() and numero != '0')]\n",
    "\n",
    "print (a)"
   ]
  },
  {
   "cell_type": "code",
   "execution_count": 10,
   "metadata": {},
   "outputs": [
    {
     "name": "stdout",
     "output_type": "stream",
     "text": [
      "  (0, 28269)\t1\n"
     ]
    }
   ],
   "source": [
    "for x in coocurrence_matrix.consultable_matrix[coocurrence_matrix.vocab['dilmapramudarminas']]:\n",
    "    print (x)"
   ]
  },
  {
   "cell_type": "code",
   "execution_count": 11,
   "metadata": {},
   "outputs": [
    {
     "data": {
      "text/plain": [
       "24536"
      ]
     },
     "execution_count": 11,
     "metadata": {},
     "output_type": "execute_result"
    }
   ],
   "source": [
    "coocurrence_matrix.vocab['dilmapramudarminas']"
   ]
  },
  {
   "cell_type": "code",
   "execution_count": 13,
   "metadata": {
    "scrolled": false
   },
   "outputs": [
    {
     "data": {
      "text/plain": [
       "'dilmapramudarminas'"
      ]
     },
     "execution_count": 13,
     "metadata": {},
     "output_type": "execute_result"
    }
   ],
   "source": [
    "words[24536]"
   ]
  }
 ],
 "metadata": {
  "kernelspec": {
   "display_name": "Python 3",
   "language": "python",
   "name": "python3"
  },
  "language_info": {
   "codemirror_mode": {
    "name": "ipython",
    "version": 3
   },
   "file_extension": ".py",
   "mimetype": "text/x-python",
   "name": "python",
   "nbconvert_exporter": "python",
   "pygments_lexer": "ipython3",
   "version": "3.6.4"
  }
 },
 "nbformat": 4,
 "nbformat_minor": 2
}
