{
 "cells": [
  {
   "cell_type": "code",
   "execution_count": 1,
   "metadata": {},
   "outputs": [],
   "source": [
    "import coocurrence_matrix"
   ]
  },
  {
   "cell_type": "code",
   "execution_count": 2,
   "metadata": {},
   "outputs": [],
   "source": [
    "from numpy import union1d"
   ]
  },
  {
   "cell_type": "code",
   "execution_count": 3,
   "metadata": {},
   "outputs": [],
   "source": [
    "from nltk import wordpunct_tokenize"
   ]
  },
  {
   "cell_type": "markdown",
   "metadata": {},
   "source": [
    "# Recupera a lista de palavras de criação da matrix esparsa."
   ]
  },
  {
   "cell_type": "code",
   "execution_count": 4,
   "metadata": {},
   "outputs": [],
   "source": [
    "words = list(set(coocurrence_matrix.tokens))"
   ]
  },
  {
   "cell_type": "markdown",
   "metadata": {},
   "source": [
    "# Retorna as 3 palvras existentes de maior frequência em bigramas com \"word\" na parte inicial do bigrama.\n",
    "# list_tuple_bigrams_frequency = [(palavra_bigrama, frequência)]"
   ]
  },
  {
   "cell_type": "code",
   "execution_count": 5,
   "metadata": {},
   "outputs": [],
   "source": [
    "def list_tuple_bigrams_frequency(word):\n",
    "    list_tuple_bigrams_frequency = []\n",
    "    \n",
    "    try:\n",
    "        # Tratamento de erro para o caso de não haver bigramas com a palavra \"word\".\n",
    "        words_frequencies = coocurrence_matrix.consultable_matrix[coocurrence_matrix.vocab[word]]\n",
    "    except:\n",
    "        return None\n",
    "    \n",
    "    # Recuperação dos brigrmas existentes e suas frequencias.\n",
    "    for bigrams_frequency in words_frequencies:\n",
    "        list_bigrams_frequency = [int(numero) for numero in wordpunct_tokenize(str(bigrams_frequency)) if (numero.isdigit() and numero != '0')]\n",
    "    \n",
    "    # Organização dos bigramas em tuplas com a palavra e frequencia.\n",
    "    for word_bigram in range(len(list_bigrams_frequency)//2):\n",
    "        list_tuple_bigrams_frequency.append(((words[list_bigrams_frequency[word_bigram * 2]]), (list_bigrams_frequency[(word_bigram * 2) + 1])))\n",
    "\n",
    "    # Ordenação em ordem decrescente por frequencia dos bigramas.\n",
    "    list_tuple_bigrams_frequency.sort(key=lambda x: x[1], reverse=True)\n",
    "    \n",
    "    return list_tuple_bigrams_frequency[:3] #Definição da quantidade de palavras e suas frequencias, retornadas."
   ]
  },
  {
   "cell_type": "markdown",
   "metadata": {},
   "source": [
    "# Cria um índice invertido das palavras dos documentos, onde associa cada palavra aos documentos que ela se encontra.\n",
    "# reference_list [palavra]= [documentos]"
   ]
  },
  {
   "cell_type": "code",
   "execution_count": 6,
   "metadata": {
    "collapsed": true
   },
   "outputs": [
    {
     "name": "stderr",
     "output_type": "stream",
     "text": [
      "C:\\ProgramData\\Anaconda3\\lib\\site-packages\\ipykernel_launcher.py:4: DeprecationWarning: \n",
      ".ix is deprecated. Please use\n",
      ".loc for label based indexing or\n",
      ".iloc for positional indexing\n",
      "\n",
      "See the documentation here:\n",
      "http://pandas.pydata.org/pandas-docs/stable/indexing.html#ix-indexer-is-deprecated\n",
      "  after removing the cwd from sys.path.\n"
     ]
    }
   ],
   "source": [
    "reference_list = {}\n",
    "\n",
    "for i in range(len(coocurrence_matrix.filtered_tokens)):\n",
    "    for j in coocurrence_matrix.filtered_tokens.ix[i]:\n",
    "        if(reference_list.setdefault(j, None) is None):\n",
    "            reference_list[j] = [i]                \n",
    "        elif(reference_list[j][-1] != i):    \n",
    "            reference_list[j].append(i)"
   ]
  },
  {
   "cell_type": "markdown",
   "metadata": {},
   "source": [
    "# FUNÇÕS DE BUSCA"
   ]
  },
  {
   "cell_type": "code",
   "execution_count": 7,
   "metadata": {},
   "outputs": [],
   "source": [
    "def search_one_term(word):\n",
    "    return list(reference_list[word])"
   ]
  },
  {
   "cell_type": "code",
   "execution_count": 8,
   "metadata": {},
   "outputs": [],
   "source": [
    "def search_or_term_expanded(word):    \n",
    "    result = reference_list[word]\n",
    "    \n",
    "    words_frequencies = list_tuple_bigrams_frequency(word)\n",
    "    \n",
    "    if(words_frequencies is not None):\n",
    "        for word_frequency in words_frequencies:\n",
    "            result = union1d(result, reference_list[word_frequency[0]])\n",
    "            # result é o resultado de sucessivas buscas OR das palavras\n",
    "                \n",
    "    return list(result)"
   ]
  },
  {
   "cell_type": "markdown",
   "metadata": {},
   "source": [
    "# Análise\n",
    "# Termos: dilmapramudarminas, lula, litigiosidade."
   ]
  },
  {
   "cell_type": "markdown",
   "metadata": {},
   "source": [
    "# Termos retornados para cada consulta"
   ]
  },
  {
   "cell_type": "code",
   "execution_count": 9,
   "metadata": {},
   "outputs": [
    {
     "name": "stdout",
     "output_type": "stream",
     "text": [
      "[('investida', 1)]\n",
      "[('assumiu', 7), ('critica', 6), ('aliados', 5)]\n",
      "[('dados', 1), ('manteve', 1), ('cultura', 1)]\n"
     ]
    }
   ],
   "source": [
    "print (list_tuple_bigrams_frequency(\"dilmapramudarminas\"))\n",
    "print (list_tuple_bigrams_frequency(\"lula\"))\n",
    "print (list_tuple_bigrams_frequency(\"litigiosidade\"))"
   ]
  },
  {
   "cell_type": "markdown",
   "metadata": {},
   "source": [
    "Os termos retornados são em parte relacionados com a consulta, como no caso da consulta para lula, retornar dilma.\n",
    "Porem por outra parte não estão relacionados, pela consulta por lula ter retornado a palavra chamou."
   ]
  },
  {
   "cell_type": "markdown",
   "metadata": {},
   "source": [
    "# Quantidade documentos retornados para a consulta original com a consulta expandida"
   ]
  },
  {
   "cell_type": "code",
   "execution_count": 10,
   "metadata": {},
   "outputs": [
    {
     "name": "stdout",
     "output_type": "stream",
     "text": [
      "1\n",
      "24\n"
     ]
    }
   ],
   "source": [
    "print (len(search_one_term(\"dilmapramudarminas\")))\n",
    "print (len(search_or_term_expanded(\"dilmapramudarminas\")))"
   ]
  },
  {
   "cell_type": "code",
   "execution_count": 11,
   "metadata": {},
   "outputs": [
    {
     "name": "stdout",
     "output_type": "stream",
     "text": [
      "1893\n",
      "2753\n"
     ]
    }
   ],
   "source": [
    "print (len(search_one_term(\"lula\")))\n",
    "print (len(search_or_term_expanded(\"lula\")))"
   ]
  },
  {
   "cell_type": "code",
   "execution_count": 12,
   "metadata": {
    "scrolled": true
   },
   "outputs": [
    {
     "name": "stdout",
     "output_type": "stream",
     "text": [
      "3\n",
      "968\n"
     ]
    }
   ],
   "source": [
    "print (len(search_one_term(\"litigiosidade\")))\n",
    "print (len(search_or_term_expanded(\"litigiosidade\")))"
   ]
  },
  {
   "cell_type": "markdown",
   "metadata": {},
   "source": [
    "O melhor resultado depende do termo consultado. Pois se for um termo que sozinho já tenha um grande numero de documentos, a expansão da consulta não será util, devido o aumento do numero de documentos retornados. Poremo se for um termo com um pequeno numero de documentos, a expansão da consulta trará novos documentos possivelmente de interesse do usuário."
   ]
  },
  {
   "cell_type": "markdown",
   "metadata": {},
   "source": [
    "# A expansão de consultas é mais adequada para melhorar o recall, por acrescentar novos documentos retornados a consulta."
   ]
  }
 ],
 "metadata": {
  "kernelspec": {
   "display_name": "Python 3",
   "language": "python",
   "name": "python3"
  },
  "language_info": {
   "codemirror_mode": {
    "name": "ipython",
    "version": 3
   },
   "file_extension": ".py",
   "mimetype": "text/x-python",
   "name": "python",
   "nbconvert_exporter": "python",
   "pygments_lexer": "ipython3",
   "version": "3.6.4"
  }
 },
 "nbformat": 4,
 "nbformat_minor": 2
}
