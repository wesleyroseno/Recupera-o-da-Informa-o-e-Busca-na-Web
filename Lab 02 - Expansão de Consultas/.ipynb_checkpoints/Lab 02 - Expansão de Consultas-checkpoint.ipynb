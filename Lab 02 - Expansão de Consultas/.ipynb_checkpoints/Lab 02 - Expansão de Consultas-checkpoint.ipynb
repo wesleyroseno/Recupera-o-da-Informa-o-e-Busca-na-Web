{
 "cells": [
  {
   "cell_type": "code",
   "execution_count": 1,
   "metadata": {},
   "outputs": [],
   "source": [
    "import coocurrence_matrix"
   ]
  },
  {
   "cell_type": "code",
   "execution_count": 2,
   "metadata": {},
   "outputs": [],
   "source": [
    "from nltk import wordpunct_tokenize"
   ]
  },
  {
   "cell_type": "markdown",
   "metadata": {},
   "source": [
    "# Bigramas existentes com a palavra (\"word\"), e suas frequências."
   ]
  },
  {
   "cell_type": "code",
   "execution_count": 3,
   "metadata": {},
   "outputs": [],
   "source": [
    "def list_bigramas_frequency(word):    \n",
    "    for bigrams_frequency in coocurrence_matrix.consultable_matrix[coocurrence_matrix.vocab[word]]:\n",
    "        list_bigramas_frequency = [int(numero) for numero in wordpunct_tokenize(str(bigrams_frequency)) if (numero.isdigit() and numero != '0')]\n",
    "\n",
    "    return list_bigramas_frequency"
   ]
  },
  {
   "cell_type": "markdown",
   "metadata": {},
   "source": [
    "# Retorna as palavras que formam bigramas com a \"word\", que possuem as 3 maiores frequências entre os bigramas formados com a \"word\"."
   ]
  },
  {
   "cell_type": "code",
   "execution_count": 4,
   "metadata": {},
   "outputs": [],
   "source": [
    "def word_expanded(word):\n",
    "    list_bigramas_frequency(word)\n",
    "    \n",
    "    return words"
   ]
  },
  {
   "cell_type": "markdown",
   "metadata": {},
   "source": [
    "# Cria um índice invertido das palavras dos documentos, onde associa cada palavra aos documentos que ela se encontra."
   ]
  },
  {
   "cell_type": "code",
   "execution_count": 5,
   "metadata": {},
   "outputs": [
    {
     "name": "stderr",
     "output_type": "stream",
     "text": [
      "C:\\ProgramData\\Anaconda3\\lib\\site-packages\\ipykernel_launcher.py:4: DeprecationWarning: \n",
      ".ix is deprecated. Please use\n",
      ".loc for label based indexing or\n",
      ".iloc for positional indexing\n",
      "\n",
      "See the documentation here:\n",
      "http://pandas.pydata.org/pandas-docs/stable/indexing.html#ix-indexer-is-deprecated\n",
      "  after removing the cwd from sys.path.\n"
     ]
    }
   ],
   "source": [
    "reference_list = {}\n",
    "\n",
    "for i in range(len(coocurrence_matrix.content)):\n",
    "    for j in coocurrence_matrix.content.ix[i]:\n",
    "        if(reference_list.setdefault(j, None) == None):\n",
    "            reference_list[j] = [i]                \n",
    "        elif(reference_list[j][-1] != i):    \n",
    "            reference_list[j].append(i)"
   ]
  },
  {
   "cell_type": "markdown",
   "metadata": {},
   "source": [
    "# FUNÇÕS DE BUSCA"
   ]
  },
  {
   "cell_type": "code",
   "execution_count": 6,
   "metadata": {},
   "outputs": [],
   "source": [
    "def search_one_term(word):\n",
    "    return list(reference_list[word])"
   ]
  },
  {
   "cell_type": "code",
   "execution_count": 7,
   "metadata": {},
   "outputs": [],
   "source": [
    "def search_or_term_expanded(word):\n",
    "    result = reference_list[word]\n",
    "    \n",
    "    #falta pegar as palavras mais frequentes para \"words\"\n",
    "    words = word_expanded(word)\n",
    "    \n",
    "    for i in words:\n",
    "                result = np.union1d(result, reference_list[i])\n",
    "                # result é o resultado de sucessivas buscas OR das palavras\n",
    "                \n",
    "    return list(result)"
   ]
  },
  {
   "cell_type": "markdown",
   "metadata": {},
   "source": [
    "# Example"
   ]
  },
  {
   "cell_type": "code",
   "execution_count": 8,
   "metadata": {},
   "outputs": [
    {
     "data": {
      "text/plain": [
       "4336"
      ]
     },
     "execution_count": 8,
     "metadata": {},
     "output_type": "execute_result"
    }
   ],
   "source": [
    "len(coocurrence_matrix.content.ix[0])"
   ]
  },
  {
   "cell_type": "code",
   "execution_count": 9,
   "metadata": {},
   "outputs": [
    {
     "name": "stdout",
     "output_type": "stream",
     "text": [
      "1\n"
     ]
    }
   ],
   "source": [
    "try:\n",
    "    w1 = 'dilmapramudarminas'\n",
    "    w2 = 'investida'\n",
    "    print(coocurrence_matrix.consult_frequency(w1, w2))\n",
    "    \n",
    "        \n",
    "except:\n",
    "    print (\"Retronar zero\")"
   ]
  },
  {
   "cell_type": "code",
   "execution_count": 10,
   "metadata": {},
   "outputs": [
    {
     "data": {
      "text/plain": [
       "2181175"
      ]
     },
     "execution_count": 10,
     "metadata": {},
     "output_type": "execute_result"
    }
   ],
   "source": [
    "len(coocurrence_matrix.tokens)"
   ]
  },
  {
   "cell_type": "code",
   "execution_count": 11,
   "metadata": {},
   "outputs": [],
   "source": [
    "words = list(set(coocurrence_matrix.tokens))"
   ]
  },
  {
   "cell_type": "code",
   "execution_count": 12,
   "metadata": {
    "scrolled": true
   },
   "outputs": [
    {
     "data": {
      "text/plain": [
       "55908"
      ]
     },
     "execution_count": 12,
     "metadata": {},
     "output_type": "execute_result"
    }
   ],
   "source": [
    "len(words)"
   ]
  },
  {
   "cell_type": "code",
   "execution_count": 13,
   "metadata": {},
   "outputs": [
    {
     "data": {
      "text/plain": [
       "<1x55908 sparse matrix of type '<class 'numpy.int32'>'\n",
       "\twith 4 stored elements in Compressed Sparse Row format>"
      ]
     },
     "execution_count": 13,
     "metadata": {},
     "output_type": "execute_result"
    }
   ],
   "source": [
    "coocurrence_matrix.consultable_matrix[coocurrence_matrix.vocab['litigiosidade']]"
   ]
  },
  {
   "cell_type": "code",
   "execution_count": 14,
   "metadata": {},
   "outputs": [
    {
     "name": "stdout",
     "output_type": "stream",
     "text": [
      "  (0, 15)\t1\n",
      "  (0, 162)\t2\n",
      "  (0, 541)\t1\n",
      "  (0, 590)\t2\n",
      "  (0, 659)\t1\n",
      "  (0, 709)\t2\n",
      "  (0, 913)\t2\n",
      "  (0, 966)\t4\n",
      "  (0, 1008)\t1\n",
      "  (0, 1055)\t1\n",
      "  (0, 1121)\t1\n",
      "  (0, 1678)\t2\n",
      "  (0, 1766)\t2\n",
      "  (0, 1949)\t1\n",
      "  (0, 2129)\t1\n",
      "  (0, 2262)\t2\n",
      "  (0, 2493)\t1\n",
      "  (0, 2595)\t1\n",
      "  (0, 2882)\t1\n",
      "  (0, 2898)\t1\n",
      "  (0, 3409)\t2\n",
      "  (0, 3478)\t1\n",
      "  (0, 3783)\t3\n",
      "  (0, 3843)\t1\n",
      "  (0, 3912)\t1\n",
      "  :\t:\n",
      "  (0, 52555)\t1\n",
      "  (0, 52899)\t3\n",
      "  (0, 52956)\t3\n",
      "  (0, 53327)\t1\n",
      "  (0, 53445)\t1\n",
      "  (0, 53512)\t1\n",
      "  (0, 53515)\t26\n",
      "  (0, 53657)\t1\n",
      "  (0, 53661)\t1\n",
      "  (0, 53792)\t3\n",
      "  (0, 54364)\t22\n",
      "  (0, 54429)\t1\n",
      "  (0, 54432)\t3\n",
      "  (0, 54561)\t1\n",
      "  (0, 54629)\t2\n",
      "  (0, 54704)\t1\n",
      "  (0, 54888)\t1\n",
      "  (0, 54914)\t1\n",
      "  (0, 54929)\t1\n",
      "  (0, 55126)\t1\n",
      "  (0, 55223)\t3\n",
      "  (0, 55286)\t2\n",
      "  (0, 55545)\t1\n",
      "  (0, 55580)\t1\n",
      "  (0, 55854)\t1\n"
     ]
    }
   ],
   "source": [
    "for x in coocurrence_matrix.consultable_matrix[coocurrence_matrix.vocab[\"obras\"]]:\n",
    "    print (x)"
   ]
  },
  {
   "cell_type": "code",
   "execution_count": 15,
   "metadata": {},
   "outputs": [
    {
     "data": {
      "text/plain": [
       "38788"
      ]
     },
     "execution_count": 15,
     "metadata": {},
     "output_type": "execute_result"
    }
   ],
   "source": [
    "coocurrence_matrix.vocab['dilmapramudarminas']"
   ]
  },
  {
   "cell_type": "code",
   "execution_count": 16,
   "metadata": {
    "scrolled": false
   },
   "outputs": [
    {
     "data": {
      "text/plain": [
       "'rozane'"
      ]
     },
     "execution_count": 16,
     "metadata": {},
     "output_type": "execute_result"
    }
   ],
   "source": [
    "words[24536]"
   ]
  }
 ],
 "metadata": {
  "kernelspec": {
   "display_name": "Python 3",
   "language": "python",
   "name": "python3"
  },
  "language_info": {
   "codemirror_mode": {
    "name": "ipython",
    "version": 3
   },
   "file_extension": ".py",
   "mimetype": "text/x-python",
   "name": "python",
   "nbconvert_exporter": "python",
   "pygments_lexer": "ipython3",
   "version": "3.6.4"
  }
 },
 "nbformat": 4,
 "nbformat_minor": 2
}
